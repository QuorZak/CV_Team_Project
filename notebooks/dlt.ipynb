{
 "cells": [
  {
   "cell_type": "code",
   "execution_count": 23,
   "metadata": {},
   "outputs": [],
   "source": [
    "from matplotlib.pyplot import imshow\n",
    "import numpy as np\n",
    "from PIL import Image"
   ]
  },
  {
   "cell_type": "code",
   "execution_count": 37,
   "metadata": {},
   "outputs": [],
   "source": [
    "def get_center(points: list[int]) -> list:\n",
    "    rows = [x[0] for x in points]\n",
    "    cols = [x[1] for x in points]\n",
    "    row_avg = sum(rows)/len(rows)\n",
    "    col_avg = sum(cols)/len(cols)\n",
    "    return [round(row_avg), round(col_avg)]"
   ]
  },
  {
   "cell_type": "code",
   "execution_count": 353,
   "metadata": {},
   "outputs": [],
   "source": [
    "left_mat = np.ones((16,16)) * 100\n",
    "right_mat = np.ones((16,16)) * 200\n",
    "\n",
    "left = [[1, 8], [1, 14], [14,8], [14,14]]\n",
    "right = [[1, 1], [1, 7], [14,1], [14,7]] \n",
    "\n",
    "for point in left:\n",
    "    point = tuple(point)\n",
    "    left_mat[point] = 255\n",
    "\n",
    "for point in right:\n",
    "    point = tuple(point)\n",
    "    right_mat[point] = 255\n",
    "\n",
    "left_image = Image.fromarray(left_mat)\n",
    "right_image = Image.fromarray(right_mat)"
   ]
  },
  {
   "cell_type": "code",
   "execution_count": 354,
   "metadata": {},
   "outputs": [
    {
     "data": {
      "text/plain": [
       "<matplotlib.image.AxesImage at 0x1de8478ca90>"
      ]
     },
     "execution_count": 354,
     "metadata": {},
     "output_type": "execute_result"
    },
    {
     "data": {
      "image/png": "[encoded data removed]",
      "text/plain": [
       "<Figure size 640x480 with 1 Axes>"
      ]
     },
     "metadata": {},
     "output_type": "display_data"
    }
   ],
   "source": [
    "imshow(left_image)"
   ]
  },
  {
   "cell_type": "code",
   "execution_count": 355,
   "metadata": {},
   "outputs": [
    {
     "data": {
      "text/plain": [
       "<matplotlib.image.AxesImage at 0x1de847d3a60>"
      ]
     },
     "execution_count": 355,
     "metadata": {},
     "output_type": "execute_result"
    },
    {
     "data": {
      "image/png": "[encoded data removed]",
      "text/plain": [
       "<Figure size 640x480 with 1 Axes>"
      ]
     },
     "metadata": {},
     "output_type": "display_data"
    }
   ],
   "source": [
    "imshow(right_image)"
   ]
  },
  {
   "cell_type": "code",
   "execution_count": 356,
   "metadata": {},
   "outputs": [
    {
     "data": {
      "text/plain": [
       "array([[  0.,   0.,   0.,   1.,   8.,   1.,   1.,   8.,  -1.],\n",
       "       [  1.,   8.,   1.,   0.,   0.,   0.,   1.,   8.,  -1.],\n",
       "       [  0.,   0.,   0.,   1.,  14.,   1.,   7.,  98.,  -7.],\n",
       "       [  1.,  14.,   1.,   0.,   0.,   0.,   1.,  14.,  -1.],\n",
       "       [  0.,   0.,   0.,  14.,   8.,   1.,  14.,   8.,  -1.],\n",
       "       [ 14.,   8.,   1.,   0.,   0.,   0., 196., 112., -14.],\n",
       "       [  0.,   0.,   0.,  14.,  14.,   1.,  98.,  98.,  -7.],\n",
       "       [ 14.,  14.,   1.,   0.,   0.,   0., 196., 196., -14.]])"
      ]
     },
     "execution_count": 356,
     "metadata": {},
     "output_type": "execute_result"
    }
   ],
   "source": [
    "A = np.zeros((2*len(right), 9))\n",
    "for i in range(len(right)):\n",
    "    idx = i * 2\n",
    "    A[idx,3:6] = [*left[i], 1] # indices 3:6 = x,y,1\n",
    "    A[idx+1,0:3] = [*left[i], 1] # indices 0:3 = x,y,1\n",
    "    A[idx, 6:9] = [right[i][1] * left[i][0],\n",
    "                   right[i][1] * left[i][1],\n",
    "                   right[i][1] * -1]\n",
    "    A[idx+1, 6:9] = [right[i][0] * left[i][0],\n",
    "                   right[i][0] * left[i][1],\n",
    "                   right[i][0] * -1]\n",
    "\n",
    "A"
   ]
  },
  {
   "cell_type": "code",
   "execution_count": 357,
   "metadata": {},
   "outputs": [],
   "source": [
    "U, D, Vt = np.linalg.svd(A)\n",
    "H = Vt[-1].reshape(3,3)"
   ]
  },
  {
   "cell_type": "code",
   "execution_count": 341,
   "metadata": {},
   "outputs": [],
   "source": [
    "def project_point(point: tuple, H: np.ndarray) -> tuple:\n",
    "    homo_point = np.asarray([*point,1])\n",
    "    projected = H@homo_point\n",
    "    cartesian = projected/projected[2]\n",
    "    cart_point = np.round(cartesian[:2], 2)\n",
    "    return tuple(cart_point)"
   ]
  },
  {
   "cell_type": "code",
   "execution_count": 342,
   "metadata": {},
   "outputs": [],
   "source": [
    "def blend(mat1: np.ndarray, mat2: np.ndarray, point1: tuple, point2: tuple) -> int:\n",
    "    return round((mat1[point1] + mat2[point2])/2)\n"
   ]
  },
  {
   "cell_type": "code",
   "execution_count": 343,
   "metadata": {},
   "outputs": [],
   "source": [
    "def contains(shape: tuple, point: tuple) -> bool:\n",
    "    return (0 <= point[0] < shape[0]) and (0 <= point[1] < shape[1])"
   ]
  },
  {
   "cell_type": "code",
   "execution_count": 358,
   "metadata": {},
   "outputs": [],
   "source": [
    "canvas = np.zeros((left_mat.shape[0], right_mat.shape[1]+left_mat.shape[1]))\n",
    "canvas_points = zip(np.repeat(list(range(canvas.shape[0])),canvas.shape[1]), list(range(canvas.shape[1])) * canvas.shape[0])\n",
    "for point in canvas_points:\n",
    "    projection = project_point(point, H)\n",
    "    if contains(left_mat.shape, point) and not contains(right_mat.shape, projection):\n",
    "        canvas[point] = left_mat[point]\n",
    "    elif contains(left_mat.shape, point) and contains(right_mat.shape, projection):\n",
    "        canvas[point] = blend(left_mat, right_mat, point, tuple(map(int,projection)))\n",
    "    elif not contains(left_mat.shape, point) and contains(right_mat.shape, projection):\n",
    "        canvas[point] = right_mat[tuple(map(int,projection))]"
   ]
  },
  {
   "cell_type": "code",
   "execution_count": 359,
   "metadata": {},
   "outputs": [
    {
     "data": {
      "text/plain": [
       "<matplotlib.image.AxesImage at 0x1de84847b20>"
      ]
     },
     "execution_count": 359,
     "metadata": {},
     "output_type": "execute_result"
    },
    {
     "data": {
      "image/png": "[encoded data removed]",
      "text/plain": [
       "<Figure size 640x480 with 1 Axes>"
      ]
     },
     "metadata": {},
     "output_type": "display_data"
    }
   ],
   "source": [
    "imshow(canvas)"
   ]
  }
 ],
 "metadata": {
  "kernelspec": {
   "display_name": ".venv",
   "language": "python",
   "name": "python3"
  },
  "language_info": {
   "codemirror_mode": {
    "name": "ipython",
    "version": 3
   },
   "file_extension": ".py",
   "mimetype": "text/x-python",
   "name": "python",
   "nbconvert_exporter": "python",
   "pygments_lexer": "ipython3",
   "version": "3.9.9"
  }
 },
 "nbformat": 4,
 "nbformat_minor": 2
}
